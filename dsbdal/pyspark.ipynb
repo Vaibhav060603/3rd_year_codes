{
 "cells": [
  {
   "cell_type": "code",
   "execution_count": 1,
   "id": "1ae2e817-2caf-4453-be08-7cefe7166e29",
   "metadata": {},
   "outputs": [],
   "source": [
    "from nltk import word_tokenize "
   ]
  },
  {
   "cell_type": "code",
   "execution_count": 2,
   "id": "3f008d09-15f8-4046-a95c-3d6208d12d28",
   "metadata": {},
   "outputs": [],
   "source": [
    "from pyspark.sql import SparkSession"
   ]
  },
  {
   "cell_type": "code",
   "execution_count": 2,
   "id": "d8c591e8-ac81-429e-baa6-66e28352d712",
   "metadata": {},
   "outputs": [],
   "source": [
    "sentence = \"this is an apple. Apple is red in color.\""
   ]
  },
  {
   "cell_type": "code",
   "execution_count": 4,
   "id": "ff4d8981-8948-48da-826d-bdc8c3fedbf8",
   "metadata": {},
   "outputs": [
    {
     "data": {
      "text/plain": [
       "['this', 'is', 'an', 'apple', '.', 'Apple', 'is', 'red', 'in', 'color', '.']"
      ]
     },
     "execution_count": 4,
     "metadata": {},
     "output_type": "execute_result"
    }
   ],
   "source": [
    "tokenized_word= word_tokenize(sentence)\n",
    "tokenized_word"
   ]
  },
  {
   "cell_type": "code",
   "execution_count": 13,
   "id": "64eceb67-daa5-4759-b2c5-b7b006f506a6",
   "metadata": {},
   "outputs": [
    {
     "name": "stdout",
     "output_type": "stream",
     "text": [
      "[('this', 1), ('is', 1), ('an', 1), ('apple', 1), ('.', 1), ('Apple', 1), ('is', 1), ('red', 1), ('in', 1), ('color', 1), ('.', 1)]\n"
     ]
    }
   ],
   "source": [
    "rdd1 = [(word,1) for word in tokenized_word]\n",
    "print(rdd1)"
   ]
  },
  {
   "cell_type": "code",
   "execution_count": 26,
   "id": "561ed7bc-f19a-4e11-8d9f-8ddd1bd99b11",
   "metadata": {},
   "outputs": [
    {
     "name": "stdout",
     "output_type": "stream",
     "text": [
      "('this', 1)\n",
      "('is', 1)\n",
      "('an', 1)\n",
      "('apple', 1)\n",
      "('.', 1)\n",
      "('Apple', 1)\n",
      "('is', 1)\n",
      "('red', 1)\n",
      "('in', 1)\n",
      "('color', 1)\n",
      "('.', 1)\n"
     ]
    }
   ],
   "source": [
    "for word in rdd1:\n",
    "    print(word)"
   ]
  },
  {
   "cell_type": "code",
   "execution_count": null,
   "id": "b9105a45-67d1-4c68-b460-6b4093208fb5",
   "metadata": {},
   "outputs": [],
   "source": [
    "\n",
    "        "
   ]
  }
 ],
 "metadata": {
  "kernelspec": {
   "display_name": "Python 3 (ipykernel)",
   "language": "python",
   "name": "python3"
  },
  "language_info": {
   "codemirror_mode": {
    "name": "ipython",
    "version": 3
   },
   "file_extension": ".py",
   "mimetype": "text/x-python",
   "name": "python",
   "nbconvert_exporter": "python",
   "pygments_lexer": "ipython3",
   "version": "3.11.7"
  }
 },
 "nbformat": 4,
 "nbformat_minor": 5
}
