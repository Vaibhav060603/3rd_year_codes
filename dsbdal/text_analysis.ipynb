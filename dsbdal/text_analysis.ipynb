{
 "cells": [
  {
   "cell_type": "code",
   "execution_count": 1,
   "id": "8e4574fd-f422-4beb-8591-870e193ec7d0",
   "metadata": {},
   "outputs": [],
   "source": [
    "from textblob import TextBlob\n",
    "import nltk"
   ]
  },
  {
   "cell_type": "code",
   "execution_count": 2,
   "id": "dd72a232-eff3-4157-9722-fe6061888278",
   "metadata": {},
   "outputs": [],
   "source": [
    "b= TextBlob(\"I havv good spelling\")"
   ]
  },
  {
   "cell_type": "code",
   "execution_count": 3,
   "id": "231e82d8-c917-41c0-8d77-dba2a208f2b0",
   "metadata": {},
   "outputs": [
    {
     "data": {
      "text/plain": [
       "TextBlob(\"I have good spelling\")"
      ]
     },
     "execution_count": 3,
     "metadata": {},
     "output_type": "execute_result"
    }
   ],
   "source": [
    "b.correct()"
   ]
  },
  {
   "cell_type": "code",
   "execution_count": 4,
   "id": "ba28b4db-427e-4f4d-93a2-eda4082c8cf9",
   "metadata": {},
   "outputs": [
    {
     "data": {
      "text/plain": [
       "WordList(['Beautiful', 'is', 'better', 'than', 'ugly.Explicit', 'is', 'better', 'than', 'implicit.Simple', 'is', 'better', 'than', 'complex'])"
      ]
     },
     "execution_count": 4,
     "metadata": {},
     "output_type": "execute_result"
    }
   ],
   "source": [
    "b1 = TextBlob(\"Beautiful is better than ugly.\"\"Explicit is better than implicit.\"\"Simple is better than complex.\")\n",
    "b1.words"
   ]
  },
  {
   "cell_type": "code",
   "execution_count": 5,
   "id": "59767f5b-b20c-4b0d-ac9e-dcefb1901fdd",
   "metadata": {},
   "outputs": [
    {
     "data": {
      "text/plain": [
       "[Sentence(\"Beautiful is better than ugly.Explicit is better than implicit.Simple is better than complex.\")]"
      ]
     },
     "execution_count": 5,
     "metadata": {},
     "output_type": "execute_result"
    }
   ],
   "source": [
    "b1.sentences"
   ]
  },
  {
   "cell_type": "code",
   "execution_count": 6,
   "id": "4a9ed2dc-713a-4e7d-b37f-21fe82bd87e4",
   "metadata": {},
   "outputs": [
    {
     "data": {
      "text/plain": [
       "'Beautifuls'"
      ]
     },
     "execution_count": 6,
     "metadata": {},
     "output_type": "execute_result"
    }
   ],
   "source": [
    "b1.words[0].pluralize()  #capitalize(), .upper(), .lower(), .singularize(), .pluralize()"
   ]
  },
  {
   "cell_type": "code",
   "execution_count": 7,
   "id": "ab0a809b-ca78-499b-b4e0-cce24a0f6ef0",
   "metadata": {},
   "outputs": [
    {
     "data": {
      "text/plain": [
       "3"
      ]
     },
     "execution_count": 7,
     "metadata": {},
     "output_type": "execute_result"
    }
   ],
   "source": [
    "b1.words.count(\"is\",case_sensitive=True)"
   ]
  },
  {
   "cell_type": "code",
   "execution_count": 8,
   "id": "3ada831d-f52c-4bfd-9b9c-072ef74f4c54",
   "metadata": {},
   "outputs": [
    {
     "data": {
      "text/plain": [
       "'Beautiful/JJ/B-ADJP/O is/VBZ/B-VP/O better/JJR/B-ADJP/O than/IN/B-PP/B-PNP ugly.Explicit/NN/B-NP/I-PNP is/VBZ/B-VP/O better/JJR/B-ADJP/O than/IN/B-PP/B-PNP implicit.Simple/NN/B-NP/I-PNP is/VBZ/B-VP/O better/JJR/B-ADJP/O than/IN/B-PP/O complex/JJ/B-ADJP/O ././O/O'"
      ]
     },
     "execution_count": 8,
     "metadata": {},
     "output_type": "execute_result"
    }
   ],
   "source": [
    "b1.parse()"
   ]
  },
  {
   "cell_type": "code",
   "execution_count": 9,
   "id": "38c1d4bb-306d-486b-a5e9-e94bc66d9a61",
   "metadata": {},
   "outputs": [
    {
     "data": {
      "text/plain": [
       "13"
      ]
     },
     "execution_count": 9,
     "metadata": {},
     "output_type": "execute_result"
    }
   ],
   "source": [
    "b1.find(\"better\")"
   ]
  },
  {
   "cell_type": "code",
   "execution_count": 10,
   "id": "535940c7-4807-42f4-b866-cfbb9dd65a7e",
   "metadata": {},
   "outputs": [
    {
     "data": {
      "text/plain": [
       "TextBlob(\"Beautiful is better\")"
      ]
     },
     "execution_count": 10,
     "metadata": {},
     "output_type": "execute_result"
    }
   ],
   "source": [
    "b1[0:19]"
   ]
  },
  {
   "cell_type": "code",
   "execution_count": 11,
   "id": "104a2f57-9514-4f58-beeb-f2ca6722f4b9",
   "metadata": {},
   "outputs": [
    {
     "name": "stdout",
     "output_type": "stream",
     "text": [
      "97\n",
      "98\n"
     ]
    },
    {
     "data": {
      "text/plain": [
       "False"
      ]
     },
     "execution_count": 11,
     "metadata": {},
     "output_type": "execute_result"
    }
   ],
   "source": [
    "apple_blob=TextBlob(\"apple\")\n",
    "banana_blob=TextBlob(\"banana\")\n",
    "print(ord(\"a\"))\n",
    "print(ord(\"b\"))\n",
    "apple_blob > banana_blob"
   ]
  },
  {
   "cell_type": "code",
   "execution_count": 12,
   "id": "a843e518-fce5-4ddd-a51f-4ba94b6d3ace",
   "metadata": {},
   "outputs": [
    {
     "data": {
      "text/plain": [
       "[WordList(['Beautiful', 'is', 'better']),\n",
       " WordList(['is', 'better', 'than']),\n",
       " WordList(['better', 'than', 'ugly.Explicit']),\n",
       " WordList(['than', 'ugly.Explicit', 'is']),\n",
       " WordList(['ugly.Explicit', 'is', 'better']),\n",
       " WordList(['is', 'better', 'than']),\n",
       " WordList(['better', 'than', 'implicit.Simple']),\n",
       " WordList(['than', 'implicit.Simple', 'is']),\n",
       " WordList(['implicit.Simple', 'is', 'better']),\n",
       " WordList(['is', 'better', 'than']),\n",
       " WordList(['better', 'than', 'complex'])]"
      ]
     },
     "execution_count": 12,
     "metadata": {},
     "output_type": "execute_result"
    }
   ],
   "source": [
    "b1.ngrams(n=3)\n"
   ]
  },
  {
   "cell_type": "code",
   "execution_count": 13,
   "id": "e8e3d685-bcbc-4a9a-9689-9bcb58e04a61",
   "metadata": {},
   "outputs": [],
   "source": [
    "import nltk\n",
    "from nltk import sent_tokenize"
   ]
  },
  {
   "cell_type": "code",
   "execution_count": 28,
   "id": "f04804aa-5287-40f9-995f-f4ec377f7c0e",
   "metadata": {},
   "outputs": [
    {
     "data": {
      "text/plain": [
       "['hello!!',\n",
       " 'how are you?',\n",
       " 'i am fine.',\n",
       " 'how are you?',\n",
       " 'How is your family?',\n",
       " 'It is good to learn data analytics.',\n",
       " 'What about you?',\n",
       " 'whats goining?']"
      ]
     },
     "execution_count": 28,
     "metadata": {},
     "output_type": "execute_result"
    }
   ],
   "source": [
    "sentence = \"hello!! how are you? i am fine. how are you? How is your family? It is good to learn data analytics. What about you? whats goining?\"\n",
    "tokenized_sentence = sent_tokenize(sentence)\n",
    "tokenized_sentence"
   ]
  },
  {
   "cell_type": "code",
   "execution_count": 29,
   "id": "aa0f2988-0787-4ba2-98de-a9a6b3608944",
   "metadata": {},
   "outputs": [],
   "source": [
    "import nltk\n",
    "from nltk import word_tokenize "
   ]
  },
  {
   "cell_type": "code",
   "execution_count": 30,
   "id": "9466bb0a-db4f-4af4-b250-d4652cf30c26",
   "metadata": {},
   "outputs": [
    {
     "data": {
      "text/plain": [
       "['hello',\n",
       " '!',\n",
       " '!',\n",
       " 'how',\n",
       " 'are',\n",
       " 'you',\n",
       " '?',\n",
       " 'i',\n",
       " 'am',\n",
       " 'fine',\n",
       " '.',\n",
       " 'how',\n",
       " 'are',\n",
       " 'you',\n",
       " '?',\n",
       " 'How',\n",
       " 'is',\n",
       " 'your',\n",
       " 'family',\n",
       " '?',\n",
       " 'It',\n",
       " 'is',\n",
       " 'good',\n",
       " 'to',\n",
       " 'learn',\n",
       " 'data',\n",
       " 'analytics',\n",
       " '.',\n",
       " 'What',\n",
       " 'about',\n",
       " 'you',\n",
       " '?',\n",
       " 'whats',\n",
       " 'goining',\n",
       " '?']"
      ]
     },
     "execution_count": 30,
     "metadata": {},
     "output_type": "execute_result"
    }
   ],
   "source": [
    "tokenized_word = word_tokenize(sentence)\n",
    "tokenized_word"
   ]
  },
  {
   "cell_type": "code",
   "execution_count": 31,
   "id": "21deeda3-3bc6-4435-a098-5315a8de972a",
   "metadata": {},
   "outputs": [
    {
     "data": {
      "text/plain": [
       "FreqDist({'?': 5, 'you': 3, '!': 2, 'how': 2, 'are': 2, '.': 2, 'is': 2, 'hello': 1, 'i': 1, 'am': 1, ...})"
      ]
     },
     "execution_count": 31,
     "metadata": {},
     "output_type": "execute_result"
    }
   ],
   "source": [
    "from nltk import FreqDist\n",
    "frequency_distribution = FreqDist(tokenized_word)\n",
    "frequency_distribution"
   ]
  },
  {
   "cell_type": "code",
   "execution_count": 32,
   "id": "ebb3acd8-c825-45e5-bcec-acf0e91b25a9",
   "metadata": {},
   "outputs": [
    {
     "data": {
      "image/png": "[encoded data removed]",
      "text/plain": [
       "<Figure size 640x480 with 1 Axes>"
      ]
     },
     "metadata": {},
     "output_type": "display_data"
    },
    {
     "data": {
      "text/plain": [
       "<Axes: xlabel='Samples', ylabel='Counts'>"
      ]
     },
     "execution_count": 32,
     "metadata": {},
     "output_type": "execute_result"
    }
   ],
   "source": [
    "frequency_distribution.plot()"
   ]
  },
  {
   "cell_type": "code",
   "execution_count": 33,
   "id": "a3449cb1-4f1a-41da-9080-674f303835b2",
   "metadata": {},
   "outputs": [
    {
     "name": "stderr",
     "output_type": "stream",
     "text": [
      "[nltk_data] Downloading package stopwords to\n",
      "[nltk_data]     C:\\Users\\Shree\\AppData\\Roaming\\nltk_data...\n",
      "[nltk_data]   Package stopwords is already up-to-date!\n"
     ]
    },
    {
     "data": {
      "text/plain": [
       "True"
      ]
     },
     "execution_count": 33,
     "metadata": {},
     "output_type": "execute_result"
    }
   ],
   "source": [
    "nltk.download(\"stopwords\")"
   ]
  },
  {
   "cell_type": "code",
   "execution_count": 2,
   "id": "d4f9264a-04e0-48b7-b832-ad0f4ada543e",
   "metadata": {},
   "outputs": [
    {
     "data": {
      "text/plain": [
       "{'a',\n",
       " 'about',\n",
       " 'above',\n",
       " 'after',\n",
       " 'again',\n",
       " 'against',\n",
       " 'ain',\n",
       " 'all',\n",
       " 'am',\n",
       " 'an',\n",
       " 'and',\n",
       " 'any',\n",
       " 'are',\n",
       " 'aren',\n",
       " \"aren't\",\n",
       " 'as',\n",
       " 'at',\n",
       " 'be',\n",
       " 'because',\n",
       " 'been',\n",
       " 'before',\n",
       " 'being',\n",
       " 'below',\n",
       " 'between',\n",
       " 'both',\n",
       " 'but',\n",
       " 'by',\n",
       " 'can',\n",
       " 'couldn',\n",
       " \"couldn't\",\n",
       " 'd',\n",
       " 'did',\n",
       " 'didn',\n",
       " \"didn't\",\n",
       " 'do',\n",
       " 'does',\n",
       " 'doesn',\n",
       " \"doesn't\",\n",
       " 'doing',\n",
       " 'don',\n",
       " \"don't\",\n",
       " 'down',\n",
       " 'during',\n",
       " 'each',\n",
       " 'few',\n",
       " 'for',\n",
       " 'from',\n",
       " 'further',\n",
       " 'had',\n",
       " 'hadn',\n",
       " \"hadn't\",\n",
       " 'has',\n",
       " 'hasn',\n",
       " \"hasn't\",\n",
       " 'have',\n",
       " 'haven',\n",
       " \"haven't\",\n",
       " 'having',\n",
       " 'he',\n",
       " 'her',\n",
       " 'here',\n",
       " 'hers',\n",
       " 'herself',\n",
       " 'him',\n",
       " 'himself',\n",
       " 'his',\n",
       " 'how',\n",
       " 'i',\n",
       " 'if',\n",
       " 'in',\n",
       " 'into',\n",
       " 'is',\n",
       " 'isn',\n",
       " \"isn't\",\n",
       " 'it',\n",
       " \"it's\",\n",
       " 'its',\n",
       " 'itself',\n",
       " 'just',\n",
       " 'll',\n",
       " 'm',\n",
       " 'ma',\n",
       " 'me',\n",
       " 'mightn',\n",
       " \"mightn't\",\n",
       " 'more',\n",
       " 'most',\n",
       " 'mustn',\n",
       " \"mustn't\",\n",
       " 'my',\n",
       " 'myself',\n",
       " 'needn',\n",
       " \"needn't\",\n",
       " 'no',\n",
       " 'nor',\n",
       " 'not',\n",
       " 'now',\n",
       " 'o',\n",
       " 'of',\n",
       " 'off',\n",
       " 'on',\n",
       " 'once',\n",
       " 'only',\n",
       " 'or',\n",
       " 'other',\n",
       " 'our',\n",
       " 'ours',\n",
       " 'ourselves',\n",
       " 'out',\n",
       " 'over',\n",
       " 'own',\n",
       " 're',\n",
       " 's',\n",
       " 'same',\n",
       " 'shan',\n",
       " \"shan't\",\n",
       " 'she',\n",
       " \"she's\",\n",
       " 'should',\n",
       " \"should've\",\n",
       " 'shouldn',\n",
       " \"shouldn't\",\n",
       " 'so',\n",
       " 'some',\n",
       " 'such',\n",
       " 't',\n",
       " 'than',\n",
       " 'that',\n",
       " \"that'll\",\n",
       " 'the',\n",
       " 'their',\n",
       " 'theirs',\n",
       " 'them',\n",
       " 'themselves',\n",
       " 'then',\n",
       " 'there',\n",
       " 'these',\n",
       " 'they',\n",
       " 'this',\n",
       " 'those',\n",
       " 'through',\n",
       " 'to',\n",
       " 'too',\n",
       " 'under',\n",
       " 'until',\n",
       " 'up',\n",
       " 've',\n",
       " 'very',\n",
       " 'was',\n",
       " 'wasn',\n",
       " \"wasn't\",\n",
       " 'we',\n",
       " 'were',\n",
       " 'weren',\n",
       " \"weren't\",\n",
       " 'what',\n",
       " 'when',\n",
       " 'where',\n",
       " 'which',\n",
       " 'while',\n",
       " 'who',\n",
       " 'whom',\n",
       " 'why',\n",
       " 'will',\n",
       " 'with',\n",
       " 'won',\n",
       " \"won't\",\n",
       " 'wouldn',\n",
       " \"wouldn't\",\n",
       " 'y',\n",
       " 'you',\n",
       " \"you'd\",\n",
       " \"you'll\",\n",
       " \"you're\",\n",
       " \"you've\",\n",
       " 'your',\n",
       " 'yours',\n",
       " 'yourself',\n",
       " 'yourselves'}"
      ]
     },
     "execution_count": 2,
     "metadata": {},
     "output_type": "execute_result"
    }
   ],
   "source": [
    "from nltk.corpus import stopwords\n",
    "stopwords = set(stopwords.words(\"english\"))\n",
    "stopwords"
   ]
  },
  {
   "cell_type": "code",
   "execution_count": 35,
   "id": "72baa662-702c-49a7-b958-2893ecdfa002",
   "metadata": {},
   "outputs": [],
   "source": [
    "filtered_words = []\n",
    "for w in tokenized_word:\n",
    "    if w not in stopwords:\n",
    "        filtered_words.append(w)"
   ]
  },
  {
   "cell_type": "code",
   "execution_count": 36,
   "id": "e59f9dbb-0b5b-4289-8fd9-c47d8fbe562b",
   "metadata": {},
   "outputs": [
    {
     "data": {
      "text/plain": [
       "['hello',\n",
       " '!',\n",
       " '!',\n",
       " '?',\n",
       " 'fine',\n",
       " '.',\n",
       " '?',\n",
       " 'How',\n",
       " 'family',\n",
       " '?',\n",
       " 'It',\n",
       " 'good',\n",
       " 'learn',\n",
       " 'data',\n",
       " 'analytics',\n",
       " '.',\n",
       " 'What',\n",
       " '?',\n",
       " 'whats',\n",
       " 'goining',\n",
       " '?']"
      ]
     },
     "execution_count": 36,
     "metadata": {},
     "output_type": "execute_result"
    }
   ],
   "source": [
    "filtered_words"
   ]
  },
  {
   "cell_type": "code",
   "execution_count": 37,
   "id": "b2d0dd6b-e359-4e64-9c54-ac816555c474",
   "metadata": {},
   "outputs": [],
   "source": [
    "from nltk import PorterStemmer\n",
    "ps = PorterStemmer()"
   ]
  },
  {
   "cell_type": "code",
   "execution_count": 38,
   "id": "d8d9fccc-2bfd-4769-9195-6c659f56924a",
   "metadata": {},
   "outputs": [
    {
     "name": "stdout",
     "output_type": "stream",
     "text": [
      "['hello', '!', '!', '?', 'fine', '.', '?', 'How', 'family', '?', 'It', 'good', 'learn', 'data', 'analytics', '.', 'What', '?', 'whats', 'goining', '?']\n",
      "['hello', '!', '!', '?', 'fine', '.', '?', 'how', 'famili', '?', 'it', 'good', 'learn', 'data', 'analyt', '.', 'what', '?', 'what', 'goin', '?']\n"
     ]
    }
   ],
   "source": [
    "stemmed_words = []\n",
    "for w in filtered_words:\n",
    "    stemmed_words.append(ps.stem(w))\n",
    "print(filtered_words)\n",
    "print(stemmed_words)"
   ]
  },
  {
   "cell_type": "code",
   "execution_count": 39,
   "id": "f464cafd-c834-4427-9d81-188319efcc88",
   "metadata": {},
   "outputs": [
    {
     "name": "stderr",
     "output_type": "stream",
     "text": [
      "[nltk_data] Downloading package wordnet to\n",
      "[nltk_data]     C:\\Users\\Shree\\AppData\\Roaming\\nltk_data...\n",
      "[nltk_data]   Package wordnet is already up-to-date!\n"
     ]
    },
    {
     "data": {
      "text/plain": [
       "True"
      ]
     },
     "execution_count": 39,
     "metadata": {},
     "output_type": "execute_result"
    }
   ],
   "source": [
    "nltk.download(\"wordnet\")"
   ]
  },
  {
   "cell_type": "code",
   "execution_count": 40,
   "id": "818bde08-18a7-40ce-8faa-d4ddc950b5f2",
   "metadata": {},
   "outputs": [],
   "source": [
    "from nltk import WordNetLemmatizer\n",
    "wnl = WordNetLemmatizer()"
   ]
  },
  {
   "cell_type": "code",
   "execution_count": 41,
   "id": "2b7aecc7-76ac-45cb-89ee-044a36553e94",
   "metadata": {},
   "outputs": [
    {
     "name": "stdout",
     "output_type": "stream",
     "text": [
      "['hello', '!', '!', '?', 'fine', '.', '?', 'How', 'family', '?', 'It', 'good', 'learn', 'data', 'analytics', '.', 'What', '?', 'whats', 'goining', '?']\n",
      "['hello', '!', '!', '?', 'fine', '.', '?', 'How', 'family', '?', 'It', 'good', 'learn', 'data', 'analytics', '.', 'What', '?', 'whats', 'goining', '?']\n"
     ]
    }
   ],
   "source": [
    "lemmatized_words = []\n",
    "for w in filtered_words:\n",
    "    lemmatized_words.append(wnl.lemmatize(w))\n",
    "print(filtered_words)\n",
    "print(lemmatized_words)"
   ]
  },
  {
   "cell_type": "code",
   "execution_count": 55,
   "id": "250384e2-9934-4295-b253-33e0b66554aa",
   "metadata": {},
   "outputs": [
    {
     "name": "stdout",
     "output_type": "stream",
     "text": [
      "fli\n",
      "fly\n"
     ]
    }
   ],
   "source": [
    "print(ps.stem(\"flying\"))\n",
    "print(wnl.lemmatize(\"flying\",\"v\"))"
   ]
  },
  {
   "cell_type": "code",
   "execution_count": null,
   "id": "78ca3aaa-b292-4061-a1e6-a20efd2d035c",
   "metadata": {},
   "outputs": [],
   "source": []
  }
 ],
 "metadata": {
  "kernelspec": {
   "display_name": "Python 3 (ipykernel)",
   "language": "python",
   "name": "python3"
  },
  "language_info": {
   "codemirror_mode": {
    "name": "ipython",
    "version": 3
   },
   "file_extension": ".py",
   "mimetype": "text/x-python",
   "name": "python",
   "nbconvert_exporter": "python",
   "pygments_lexer": "ipython3",
   "version": "3.11.7"
  }
 },
 "nbformat": 4,
 "nbformat_minor": 5
}
