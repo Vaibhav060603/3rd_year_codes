{
 "cells": [
  {
   "cell_type": "code",
   "execution_count": 1,
   "id": "1682a4fb-6cca-44af-bdf6-1b77a4fa542a",
   "metadata": {},
   "outputs": [],
   "source": [
    "INF=9999999 \n",
    "\n",
    "V=5\n",
    "\n",
    "G=[[0,9,75,0,0],\n",
    "   [9,0,95,19,42],\n",
    "   [75,95,0,51,66],\n",
    "   [0,19,51,0,31],\n",
    "   [0,42,66,31,0]]\n",
    "\n",
    "selected = [False]*V\n",
    "selected[0]=True\n",
    "\n",
    "no_edges=0"
   ]
  },
  {
   "cell_type": "code",
   "execution_count": 2,
   "id": "1c23f5a0-427f-42e3-bb95-b8271275e18d",
   "metadata": {},
   "outputs": [
    {
     "name": "stdout",
     "output_type": "stream",
     "text": [
      "0 - 1 : 9\n",
      "1 - 3 : 19\n",
      "3 - 4 : 31\n",
      "3 - 2 : 51\n"
     ]
    }
   ],
   "source": [
    "while no_edges < V-1:\n",
    "    minimum = INF\n",
    "    x = 0\n",
    "    y = 0\n",
    "    for i in range(V):\n",
    "        if selected[i]:\n",
    "            for j in range(V):\n",
    "                if not selected[j] and G[i][j]:\n",
    "                    if G[i][j]<minimum:\n",
    "                        minimum=G[i][j]\n",
    "                        x=i\n",
    "                        y=j\n",
    "    print(x,\"-\",y,\":\",G[x][y])\n",
    "    selected[y]=True \n",
    "    no_edges+=1"
   ]
  },
  {
   "cell_type": "code",
   "execution_count": null,
   "id": "979c38dd-3ed4-4bdc-bf96-9eb4f90b3ceb",
   "metadata": {},
   "outputs": [],
   "source": []
  }
 ],
 "metadata": {
  "kernelspec": {
   "display_name": "Python 3 (ipykernel)",
   "language": "python",
   "name": "python3"
  },
  "language_info": {
   "codemirror_mode": {
    "name": "ipython",
    "version": 3
   },
   "file_extension": ".py",
   "mimetype": "text/x-python",
   "name": "python",
   "nbconvert_exporter": "python",
   "pygments_lexer": "ipython3",
   "version": "3.11.7"
  }
 },
 "nbformat": 4,
 "nbformat_minor": 5
}
