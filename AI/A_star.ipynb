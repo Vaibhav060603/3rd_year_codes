{
 "cells": [
  {
   "cell_type": "code",
   "execution_count": 2,
   "id": "2f446077-6806-4f2e-9c85-c2ec3bd72a1b",
   "metadata": {},
   "outputs": [],
   "source": [
    "graph={\n",
    "    \"A\":[\"B\",\"C\"],\n",
    "    \"B\":[\"A\",\"D\",\"E\"],\n",
    "    \"C\":[\"A\",\"F\"],\n",
    "    \"D\":[\"B\",\"G\"],\n",
    "    \"E\":[\"B\",\"H\"],\n",
    "    \"F\":[\"C\",\"I\"],\n",
    "    \"G\":[\"D\",\"H\"],\n",
    "    \"H\":[\"G\",\"E\",\"I\"],\n",
    "    \"I\":[\"F\",\"H\"]\n",
    "}\n",
    "\n",
    "heuristics={\n",
    "    \"A\":5,\n",
    "    \"B\":4,\n",
    "    \"C\":3,\n",
    "    \"D\":2,\n",
    "    \"E\":3,\n",
    "    \"F\":2,\n",
    "    \"G\":1,\n",
    "    \"H\":2,\n",
    "    \"I\":0\n",
    "}"
   ]
  },
  {
   "cell_type": "code",
   "execution_count": 10,
   "id": "832f6b5d-44e2-498d-a5e8-116600cec822",
   "metadata": {},
   "outputs": [],
   "source": [
    "import heapq\n",
    "\n",
    "def astar(start, goal, graph, heuristics):\n",
    "    open_set = []\n",
    "    closed_set = []\n",
    "\n",
    "    #creating dictionaries for f(n) and g(n)\n",
    "    g = {start:0}\n",
    "    f = {start:(g[start]+heuristics[start])}\n",
    "    parent = {start:None}\n",
    "\n",
    "    heapq.heappush(open_set, (f[start],start))\n",
    "\n",
    "    while open_set:\n",
    "        current_node=heapq.heappop(open_set)[1]\n",
    "\n",
    "        #if current_node is goal node\n",
    "        if(current_node==goal):\n",
    "            path=[]\n",
    "            while current_node:\n",
    "                path.append(current_node)\n",
    "                current_node=parent[current_node]\n",
    "            return path[::-1]\n",
    "\n",
    "        #if current_node is not goal node\n",
    "        closed_set.append(current_node)\n",
    "\n",
    "        for neighbour in graph[current_node]:\n",
    "            if neighbour in closed_set:\n",
    "                continue\n",
    "\n",
    "            #assuming the distance between nodes = 1\n",
    "            neighbour_g = g[current_node]+1\n",
    "            if neighbour not in g or neighbour_g < g[neighbour]:\n",
    "                g[neighbour] = neighbour_g\n",
    "                f[neighbour] = g[neighbour] + heuristics[neighbour]\n",
    "                parent[neighbour]=current_node\n",
    "                heapq.heappush(open_set, (f[neighbour],neighbour))\n",
    "\n",
    "    return []"
   ]
  },
  {
   "cell_type": "code",
   "execution_count": 12,
   "id": "eb4b1692-7a85-467b-9cfd-b64423219c72",
   "metadata": {},
   "outputs": [
    {
     "name": "stdout",
     "output_type": "stream",
     "text": [
      "['A', 'C', 'F', 'I']\n"
     ]
    }
   ],
   "source": [
    "path = astar(\"A\",\"I\",graph,heuristics)\n",
    "print(path)"
   ]
  },
  {
   "cell_type": "code",
   "execution_count": null,
   "id": "9205badd-3e9f-4e01-bca6-c0a63eaf6322",
   "metadata": {},
   "outputs": [],
   "source": []
  }
 ],
 "metadata": {
  "kernelspec": {
   "display_name": "Python 3 (ipykernel)",
   "language": "python",
   "name": "python3"
  },
  "language_info": {
   "codemirror_mode": {
    "name": "ipython",
    "version": 3
   },
   "file_extension": ".py",
   "mimetype": "text/x-python",
   "name": "python",
   "nbconvert_exporter": "python",
   "pygments_lexer": "ipython3",
   "version": "3.11.7"
  }
 },
 "nbformat": 4,
 "nbformat_minor": 5
}
