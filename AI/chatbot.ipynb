{
 "cells": [
  {
   "cell_type": "code",
   "execution_count": 1,
   "id": "a708c90d-17d1-47cf-8b94-c9af1b0b7da4",
   "metadata": {},
   "outputs": [],
   "source": [
    "def greet(bot_name,birth_year):\n",
    "    print(\"Hello!! My name is \"+ bot_name+\".\")\n",
    "    print(\"I was born in \"+birth_year+\".\")"
   ]
  },
  {
   "cell_type": "code",
   "execution_count": 2,
   "id": "87c36784-939f-49d7-8834-48e87b6d74d3",
   "metadata": {},
   "outputs": [],
   "source": [
    "def remind_name():\n",
    "    print(\"Can you please remind me your name?\")\n",
    "    name = input()\n",
    "    print(\"What a great name you have, \"+name+\"!!\")\n",
    "    return name"
   ]
  },
  {
   "cell_type": "code",
   "execution_count": 3,
   "id": "8b7bffa4-a315-4182-b228-ecf6240df4c6",
   "metadata": {},
   "outputs": [],
   "source": [
    "def guess_age():\n",
    "    print(\"Let me guess your age.\")\n",
    "    print(\"Enter remainders of dividing your age by 3, 5 and 7: \")\n",
    "    rem3 = int(input())\n",
    "    rem5 = int(input())\n",
    "    rem7 = int(input())\n",
    "    age = (rem3*70 + rem5*21 + rem7*15)%105\n",
    "    print(\"Your age is \",age,\".\")\n",
    "    "
   ]
  },
  {
   "cell_type": "code",
   "execution_count": 4,
   "id": "ce33687b-3d6e-4ae1-b9ac-2da33cb13370",
   "metadata": {},
   "outputs": [],
   "source": [
    "def count():\n",
    "    print(\"Now I will prove that I know all maths table, give me a number: \")\n",
    "    number= int(input())\n",
    "    for i in range(1,11):\n",
    "        print(number,\"*\",int(i) ,\" = \", (number*int(i)))"
   ]
  },
  {
   "cell_type": "code",
   "execution_count": 5,
   "id": "d4791209-c977-4521-b587-0d59acece69e",
   "metadata": {},
   "outputs": [],
   "source": [
    "def test():\n",
    "    print(\"Lets check your programming knowledge.\\nWhy do we use methods?\\n1. To decompose a program into several sma;; subroutines.\\n2. To repeat a statement multiple times.\\n3. To determine the execution time of a program. \\n4. To interrupt the execution of a program.\")\n",
    "    while(1):\n",
    "        answer = int(input())\n",
    "        if(answer==2):\n",
    "            print(\"Correct answer. You are quite intelligent.\")\n",
    "            break\n",
    "        elif(answer>4):\n",
    "            print(\"Give answer number between 1 - 4.\")\n",
    "        else:\n",
    "            print(\"Wrong answer, guess again.\")"
   ]
  },
  {
   "cell_type": "code",
   "execution_count": 14,
   "id": "37b4cbc9-6b3d-4f3e-a60a-35d5c84c7d23",
   "metadata": {},
   "outputs": [],
   "source": [
    "def go(name):\n",
    "    print(\"Sorry\",name+\", I have some work to do, so I have to go now, Have a nice day!!!\")"
   ]
  },
  {
   "cell_type": "code",
   "execution_count": 15,
   "id": "42ed8d75-f331-42c2-8cd0-0ea0da9e9bbf",
   "metadata": {},
   "outputs": [
    {
     "name": "stdout",
     "output_type": "stream",
     "text": [
      "Hello!! My name is sajjan.\n",
      "I was born in 1947.\n",
      "Can you please remind me your name?\n"
     ]
    },
    {
     "name": "stdin",
     "output_type": "stream",
     "text": [
      " vv\n"
     ]
    },
    {
     "name": "stdout",
     "output_type": "stream",
     "text": [
      "What a great name you have, vv!!\n",
      "Let me guess your age.\n",
      "Enter remainders of dividing your age by 3, 5 and 7: \n"
     ]
    },
    {
     "name": "stdin",
     "output_type": "stream",
     "text": [
      " 14\n",
      " 14\n",
      " 14\n"
     ]
    },
    {
     "name": "stdout",
     "output_type": "stream",
     "text": [
      "Your age is  14 .\n",
      "Now I will prove that I know all maths table, give me a number: \n"
     ]
    },
    {
     "name": "stdin",
     "output_type": "stream",
     "text": [
      " 14\n"
     ]
    },
    {
     "name": "stdout",
     "output_type": "stream",
     "text": [
      "14 * 1  =  14\n",
      "14 * 2  =  28\n",
      "14 * 3  =  42\n",
      "14 * 4  =  56\n",
      "14 * 5  =  70\n",
      "14 * 6  =  84\n",
      "14 * 7  =  98\n",
      "14 * 8  =  112\n",
      "14 * 9  =  126\n",
      "14 * 10  =  140\n",
      "Lets check your programming knowledge.\n",
      "Why do we use methods?\n",
      "1. To decompose a program into several sma;; subroutines.\n",
      "2. To repeat a statement multiple times.\n",
      "3. To determine the execution time of a program. \n",
      "4. To interrupt the execution of a program.\n"
     ]
    },
    {
     "name": "stdin",
     "output_type": "stream",
     "text": [
      " 2\n"
     ]
    },
    {
     "name": "stdout",
     "output_type": "stream",
     "text": [
      "Correct answer. You are quite intelligent.\n",
      "Sorry vv, I have some work to do, so I have to go now, Have a nice day!!!\n"
     ]
    }
   ],
   "source": [
    "greet(\"sajjan\",\"1947\")\n",
    "name=remind_name()\n",
    "guess_age()\n",
    "count()\n",
    "test()\n",
    "go(name)"
   ]
  },
  {
   "cell_type": "code",
   "execution_count": null,
   "id": "0f806174-0332-4d92-8ea4-c60122edc8aa",
   "metadata": {},
   "outputs": [],
   "source": []
  }
 ],
 "metadata": {
  "kernelspec": {
   "display_name": "Python 3 (ipykernel)",
   "language": "python",
   "name": "python3"
  },
  "language_info": {
   "codemirror_mode": {
    "name": "ipython",
    "version": 3
   },
   "file_extension": ".py",
   "mimetype": "text/x-python",
   "name": "python",
   "nbconvert_exporter": "python",
   "pygments_lexer": "ipython3",
   "version": "3.11.7"
  }
 },
 "nbformat": 4,
 "nbformat_minor": 5
}
