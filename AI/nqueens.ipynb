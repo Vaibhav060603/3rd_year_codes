{
 "cells": [
  {
   "cell_type": "code",
   "execution_count": 5,
   "id": "d627ccd9-12f9-4bd4-86b0-e006f3b87c5e",
   "metadata": {},
   "outputs": [],
   "source": [
    "def issafe(board, row, column, n):\n",
    "    #checking if the upper part of column is safe or not\n",
    "    for i in range(row):\n",
    "        if board[i][column]==1:\n",
    "            return False\n",
    "\n",
    "    #checking upper left diagnol\n",
    "    i=row\n",
    "    j=column\n",
    "    while i>=0 and j>=0:\n",
    "        if board[i][j]==1:\n",
    "            return False\n",
    "        i-=1\n",
    "        j-=1\n",
    "\n",
    "    #checking upper right diagnol\n",
    "    i=row\n",
    "    j=column\n",
    "    while i>=0 and j<n:\n",
    "        if board[i][j]==1:\n",
    "            return False\n",
    "        i-=1\n",
    "        j+=1\n",
    "\n",
    "    return True"
   ]
  },
  {
   "cell_type": "code",
   "execution_count": 6,
   "id": "3cc32de7-851f-494a-971d-1d506a725f08",
   "metadata": {},
   "outputs": [],
   "source": [
    "def print_solution(board,n):\n",
    "    for i in range(n):\n",
    "        print(board[i])"
   ]
  },
  {
   "cell_type": "code",
   "execution_count": 9,
   "id": "70f35104-4974-4ed1-a0e8-4711f738fb73",
   "metadata": {},
   "outputs": [],
   "source": [
    "def solve(board,row,n):\n",
    "    if row == n:\n",
    "        print_solution(board,n)\n",
    "        print()\n",
    "    \n",
    "    for column in range(n):\n",
    "        if issafe(board, row, column, n):\n",
    "            board[row][column]=1\n",
    "            solve(board,row+1,n)\n",
    "            board[row][column]=0"
   ]
  },
  {
   "cell_type": "code",
   "execution_count": 14,
   "id": "aa601c88-3ccd-4d06-a027-80a16e8ecccc",
   "metadata": {},
   "outputs": [
    {
     "name": "stdin",
     "output_type": "stream",
     "text": [
      "Enter the number of queens:  4\n"
     ]
    },
    {
     "name": "stdout",
     "output_type": "stream",
     "text": [
      "[0, 1, 0, 0]\n",
      "[0, 0, 0, 1]\n",
      "[1, 0, 0, 0]\n",
      "[0, 0, 1, 0]\n",
      "\n",
      "[0, 0, 1, 0]\n",
      "[1, 0, 0, 0]\n",
      "[0, 0, 0, 1]\n",
      "[0, 1, 0, 0]\n",
      "\n"
     ]
    }
   ],
   "source": [
    "n=int(input(\"Enter the number of queens: \"))\n",
    "board = []\n",
    "for i in range(n):\n",
    "    row = []\n",
    "    for j in range(n):\n",
    "        row.append(0)\n",
    "    board.append(row)\n",
    "solve(board,0,n)"
   ]
  },
  {
   "cell_type": "code",
   "execution_count": null,
   "id": "6b77088b-20b7-4b74-938a-2261be85a67e",
   "metadata": {},
   "outputs": [],
   "source": []
  },
  {
   "cell_type": "code",
   "execution_count": null,
   "id": "76b4e680-a1f2-4433-a946-f61322e4eef0",
   "metadata": {},
   "outputs": [],
   "source": []
  }
 ],
 "metadata": {
  "kernelspec": {
   "display_name": "Python 3 (ipykernel)",
   "language": "python",
   "name": "python3"
  },
  "language_info": {
   "codemirror_mode": {
    "name": "ipython",
    "version": 3
   },
   "file_extension": ".py",
   "mimetype": "text/x-python",
   "name": "python",
   "nbconvert_exporter": "python",
   "pygments_lexer": "ipython3",
   "version": "3.11.7"
  }
 },
 "nbformat": 4,
 "nbformat_minor": 5
}
