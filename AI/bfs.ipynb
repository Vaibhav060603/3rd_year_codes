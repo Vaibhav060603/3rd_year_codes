{
 "cells": [
  {
   "cell_type": "code",
   "execution_count": 1,
   "id": "3b3bf703-ede4-43d4-9222-ffbd64680dfe",
   "metadata": {},
   "outputs": [],
   "source": [
    "import collections"
   ]
  },
  {
   "cell_type": "code",
   "execution_count": 2,
   "id": "86e7bb10-7e26-4fc8-a4fc-0a02ac9f509e",
   "metadata": {},
   "outputs": [],
   "source": [
    "graph = {\n",
    "    \"A\": [\"B\", \"C\", \"D\"],\n",
    "    \"B\": [\"A\", \"C\"],\n",
    "    \"C\": [\"A\", \"B\", \"E\"],\n",
    "    \"D\": [\"A\"],\n",
    "    \"E\": [\"C\"]\n",
    "}"
   ]
  },
  {
   "cell_type": "code",
   "execution_count": 39,
   "id": "1c3fcf19-bbfb-43ec-883f-21cd5bdfb558",
   "metadata": {},
   "outputs": [],
   "source": [
    "def bfs(graph,root):\n",
    "    visited = set()\n",
    "    queue = collections.deque([root])\n",
    "    visited.add(root)\n",
    "    while queue:\n",
    "        vertex = queue.popleft()\n",
    "        print(vertex)\n",
    "        for neighbour in graph[vertex]:\n",
    "            if neighbour not in visited:\n",
    "                visited.add(neighbour)\n",
    "                queue.append(neighbour)"
   ]
  },
  {
   "cell_type": "code",
   "execution_count": 40,
   "id": "1de0a332-8581-46d4-aeed-c6af0aeb4d85",
   "metadata": {},
   "outputs": [
    {
     "name": "stdout",
     "output_type": "stream",
     "text": [
      "A\n",
      "B\n",
      "C\n",
      "D\n",
      "E\n"
     ]
    }
   ],
   "source": [
    "bfs(graph,\"A\")"
   ]
  },
  {
   "cell_type": "code",
   "execution_count": null,
   "id": "d481b04b-7d7c-4cb3-9767-c5f8547667f1",
   "metadata": {},
   "outputs": [],
   "source": []
  }
 ],
 "metadata": {
  "kernelspec": {
   "display_name": "Python 3 (ipykernel)",
   "language": "python",
   "name": "python3"
  },
  "language_info": {
   "codemirror_mode": {
    "name": "ipython",
    "version": 3
   },
   "file_extension": ".py",
   "mimetype": "text/x-python",
   "name": "python",
   "nbconvert_exporter": "python",
   "pygments_lexer": "ipython3",
   "version": "3.11.7"
  }
 },
 "nbformat": 4,
 "nbformat_minor": 5
}
