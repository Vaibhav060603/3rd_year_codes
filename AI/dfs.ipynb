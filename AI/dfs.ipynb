{
 "cells": [
  {
   "cell_type": "code",
   "execution_count": 1,
   "id": "cece9f28-5b54-4bdf-a21b-b398e182b26e",
   "metadata": {},
   "outputs": [],
   "source": [
    "#making the graph\n",
    "graph={\n",
    "    'A':['B','C','D'],\n",
    "    'B':['E'],\n",
    "    'C':['D','E'],\n",
    "    'D':[],\n",
    "    'E':[]\n",
    "}"
   ]
  },
  {
   "cell_type": "code",
   "execution_count": 2,
   "id": "03d38fa2-e219-477b-89d6-8dc2a19ca428",
   "metadata": {},
   "outputs": [],
   "source": [
    "#making the visited set\n",
    "visited = set()"
   ]
  },
  {
   "cell_type": "code",
   "execution_count": 3,
   "id": "1d53fae3-1d84-4cab-8a3e-5b0a80ee0b59",
   "metadata": {},
   "outputs": [],
   "source": [
    "#recursive dfs algorithm\n",
    "def dfs(graph,visited,root):\n",
    "    if root not in visited:\n",
    "        print(root)\n",
    "        visited.add(root)\n",
    "        for neighbour in graph[root]:\n",
    "            dfs(graph,visited,neighbour)"
   ]
  },
  {
   "cell_type": "code",
   "execution_count": 4,
   "id": "e4bbef23-a5c7-4252-80d5-4a6824cbc26b",
   "metadata": {},
   "outputs": [
    {
     "name": "stdout",
     "output_type": "stream",
     "text": [
      "A\n",
      "B\n",
      "E\n",
      "C\n",
      "D\n"
     ]
    }
   ],
   "source": [
    "dfs(graph,visited,'A')"
   ]
  },
  {
   "cell_type": "code",
   "execution_count": null,
   "id": "c60ba3d6-3433-48c5-8716-53f2dd1d36ac",
   "metadata": {},
   "outputs": [],
   "source": []
  }
 ],
 "metadata": {
  "kernelspec": {
   "display_name": "Python 3 (ipykernel)",
   "language": "python",
   "name": "python3"
  },
  "language_info": {
   "codemirror_mode": {
    "name": "ipython",
    "version": 3
   },
   "file_extension": ".py",
   "mimetype": "text/x-python",
   "name": "python",
   "nbconvert_exporter": "python",
   "pygments_lexer": "ipython3",
   "version": "3.11.7"
  }
 },
 "nbformat": 4,
 "nbformat_minor": 5
}
